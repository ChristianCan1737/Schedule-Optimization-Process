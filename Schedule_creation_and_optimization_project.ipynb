{
  "nbformat": 4,
  "nbformat_minor": 0,
  "metadata": {
    "colab": {
      "provenance": []
    },
    "kernelspec": {
      "name": "python3",
      "display_name": "Python 3"
    },
    "language_info": {
      "name": "python"
    }
  },
  "cells": [
    {
      "cell_type": "markdown",
      "source": [
        "# Importing necessary libraries"
      ],
      "metadata": {
        "id": "_BCQS0VoztCe"
      }
    },
    {
      "cell_type": "code",
      "execution_count": 8,
      "metadata": {
        "id": "FQLd08gpCk_t"
      },
      "outputs": [],
      "source": [
        "import pandas as pd\n",
        "import numpy as np\n",
        "import matplotlib.pyplot as plt\n",
        "import seaborn as sns"
      ]
    },
    {
      "cell_type": "markdown",
      "source": [
        "# Dataset creation"
      ],
      "metadata": {
        "id": "ateKjfu5zvCz"
      }
    },
    {
      "cell_type": "code",
      "source": [
        "dataset = {\n",
        "    \"Teacher\": [\n",
        "        \"Astrid Aguilar\", \"Alejandra Cabrera\", \"Alejandra Cabrera\", \"Professor Brown\", \"Jorge Borges\",\n",
        "        \"Mishell Reyes\", \"Paola Novelo\", \"Jorge Borges\", \"Mishell Reyes\", \"Alicia Borges\"\n",
        "    ],\n",
        "    \"Subject\": [\n",
        "        \"English I\", \"English VII\", \"English IV\", \"English I\", \"English IV\",\n",
        "        \"English I\", \"English IV\", \"English VII\", \"English I\", \"English I\"\n",
        "    ],\n",
        "    \"Availability\": [\n",
        "        \"3, 4\", \"9, 10\", \"7, 8\", \"3, 4\", \"7, 8\",\n",
        "        \"3, 4\", \"7, 8\", \"9, 10\", \"3, 4\", \"3, 4\"\n",
        "    ]\n",
        "}\n",
        "\n",
        "\n",
        "df = pd.DataFrame(dataset)"
      ],
      "metadata": {
        "id": "77jPSX4gMrBF"
      },
      "execution_count": 9,
      "outputs": []
    },
    {
      "cell_type": "code",
      "source": [
        "df"
      ],
      "metadata": {
        "colab": {
          "base_uri": "https://localhost:8080/",
          "height": 363
        },
        "id": "u6DEPDnDWZD9",
        "outputId": "7ed6be12-6664-4709-ac67-fc0a0f4eb999"
      },
      "execution_count": 10,
      "outputs": [
        {
          "output_type": "execute_result",
          "data": {
            "text/plain": [
              "             Teacher      Subject Availability\n",
              "0     Astrid Aguilar    English I         3, 4\n",
              "1  Alejandra Cabrera  English VII        9, 10\n",
              "2  Alejandra Cabrera   English IV         7, 8\n",
              "3    Professor Brown    English I         3, 4\n",
              "4       Jorge Borges   English IV         7, 8\n",
              "5      Mishell Reyes    English I         3, 4\n",
              "6       Paola Novelo   English IV         7, 8\n",
              "7       Jorge Borges  English VII        9, 10\n",
              "8      Mishell Reyes    English I         3, 4\n",
              "9      Alicia Borges    English I         3, 4"
            ],
            "text/html": [
              "\n",
              "  <div id=\"df-043c2e7e-8391-45a3-be86-a034e9fe8cd9\" class=\"colab-df-container\">\n",
              "    <div>\n",
              "<style scoped>\n",
              "    .dataframe tbody tr th:only-of-type {\n",
              "        vertical-align: middle;\n",
              "    }\n",
              "\n",
              "    .dataframe tbody tr th {\n",
              "        vertical-align: top;\n",
              "    }\n",
              "\n",
              "    .dataframe thead th {\n",
              "        text-align: right;\n",
              "    }\n",
              "</style>\n",
              "<table border=\"1\" class=\"dataframe\">\n",
              "  <thead>\n",
              "    <tr style=\"text-align: right;\">\n",
              "      <th></th>\n",
              "      <th>Teacher</th>\n",
              "      <th>Subject</th>\n",
              "      <th>Availability</th>\n",
              "    </tr>\n",
              "  </thead>\n",
              "  <tbody>\n",
              "    <tr>\n",
              "      <th>0</th>\n",
              "      <td>Astrid Aguilar</td>\n",
              "      <td>English I</td>\n",
              "      <td>3, 4</td>\n",
              "    </tr>\n",
              "    <tr>\n",
              "      <th>1</th>\n",
              "      <td>Alejandra Cabrera</td>\n",
              "      <td>English VII</td>\n",
              "      <td>9, 10</td>\n",
              "    </tr>\n",
              "    <tr>\n",
              "      <th>2</th>\n",
              "      <td>Alejandra Cabrera</td>\n",
              "      <td>English IV</td>\n",
              "      <td>7, 8</td>\n",
              "    </tr>\n",
              "    <tr>\n",
              "      <th>3</th>\n",
              "      <td>Professor Brown</td>\n",
              "      <td>English I</td>\n",
              "      <td>3, 4</td>\n",
              "    </tr>\n",
              "    <tr>\n",
              "      <th>4</th>\n",
              "      <td>Jorge Borges</td>\n",
              "      <td>English IV</td>\n",
              "      <td>7, 8</td>\n",
              "    </tr>\n",
              "    <tr>\n",
              "      <th>5</th>\n",
              "      <td>Mishell Reyes</td>\n",
              "      <td>English I</td>\n",
              "      <td>3, 4</td>\n",
              "    </tr>\n",
              "    <tr>\n",
              "      <th>6</th>\n",
              "      <td>Paola Novelo</td>\n",
              "      <td>English IV</td>\n",
              "      <td>7, 8</td>\n",
              "    </tr>\n",
              "    <tr>\n",
              "      <th>7</th>\n",
              "      <td>Jorge Borges</td>\n",
              "      <td>English VII</td>\n",
              "      <td>9, 10</td>\n",
              "    </tr>\n",
              "    <tr>\n",
              "      <th>8</th>\n",
              "      <td>Mishell Reyes</td>\n",
              "      <td>English I</td>\n",
              "      <td>3, 4</td>\n",
              "    </tr>\n",
              "    <tr>\n",
              "      <th>9</th>\n",
              "      <td>Alicia Borges</td>\n",
              "      <td>English I</td>\n",
              "      <td>3, 4</td>\n",
              "    </tr>\n",
              "  </tbody>\n",
              "</table>\n",
              "</div>\n",
              "    <div class=\"colab-df-buttons\">\n",
              "\n",
              "  <div class=\"colab-df-container\">\n",
              "    <button class=\"colab-df-convert\" onclick=\"convertToInteractive('df-043c2e7e-8391-45a3-be86-a034e9fe8cd9')\"\n",
              "            title=\"Convert this dataframe to an interactive table.\"\n",
              "            style=\"display:none;\">\n",
              "\n",
              "  <svg xmlns=\"http://www.w3.org/2000/svg\" height=\"24px\" viewBox=\"0 -960 960 960\">\n",
              "    <path d=\"M120-120v-720h720v720H120Zm60-500h600v-160H180v160Zm220 220h160v-160H400v160Zm0 220h160v-160H400v160ZM180-400h160v-160H180v160Zm440 0h160v-160H620v160ZM180-180h160v-160H180v160Zm440 0h160v-160H620v160Z\"/>\n",
              "  </svg>\n",
              "    </button>\n",
              "\n",
              "  <style>\n",
              "    .colab-df-container {\n",
              "      display:flex;\n",
              "      gap: 12px;\n",
              "    }\n",
              "\n",
              "    .colab-df-convert {\n",
              "      background-color: #E8F0FE;\n",
              "      border: none;\n",
              "      border-radius: 50%;\n",
              "      cursor: pointer;\n",
              "      display: none;\n",
              "      fill: #1967D2;\n",
              "      height: 32px;\n",
              "      padding: 0 0 0 0;\n",
              "      width: 32px;\n",
              "    }\n",
              "\n",
              "    .colab-df-convert:hover {\n",
              "      background-color: #E2EBFA;\n",
              "      box-shadow: 0px 1px 2px rgba(60, 64, 67, 0.3), 0px 1px 3px 1px rgba(60, 64, 67, 0.15);\n",
              "      fill: #174EA6;\n",
              "    }\n",
              "\n",
              "    .colab-df-buttons div {\n",
              "      margin-bottom: 4px;\n",
              "    }\n",
              "\n",
              "    [theme=dark] .colab-df-convert {\n",
              "      background-color: #3B4455;\n",
              "      fill: #D2E3FC;\n",
              "    }\n",
              "\n",
              "    [theme=dark] .colab-df-convert:hover {\n",
              "      background-color: #434B5C;\n",
              "      box-shadow: 0px 1px 3px 1px rgba(0, 0, 0, 0.15);\n",
              "      filter: drop-shadow(0px 1px 2px rgba(0, 0, 0, 0.3));\n",
              "      fill: #FFFFFF;\n",
              "    }\n",
              "  </style>\n",
              "\n",
              "    <script>\n",
              "      const buttonEl =\n",
              "        document.querySelector('#df-043c2e7e-8391-45a3-be86-a034e9fe8cd9 button.colab-df-convert');\n",
              "      buttonEl.style.display =\n",
              "        google.colab.kernel.accessAllowed ? 'block' : 'none';\n",
              "\n",
              "      async function convertToInteractive(key) {\n",
              "        const element = document.querySelector('#df-043c2e7e-8391-45a3-be86-a034e9fe8cd9');\n",
              "        const dataTable =\n",
              "          await google.colab.kernel.invokeFunction('convertToInteractive',\n",
              "                                                    [key], {});\n",
              "        if (!dataTable) return;\n",
              "\n",
              "        const docLinkHtml = 'Like what you see? Visit the ' +\n",
              "          '<a target=\"_blank\" href=https://colab.research.google.com/notebooks/data_table.ipynb>data table notebook</a>'\n",
              "          + ' to learn more about interactive tables.';\n",
              "        element.innerHTML = '';\n",
              "        dataTable['output_type'] = 'display_data';\n",
              "        await google.colab.output.renderOutput(dataTable, element);\n",
              "        const docLink = document.createElement('div');\n",
              "        docLink.innerHTML = docLinkHtml;\n",
              "        element.appendChild(docLink);\n",
              "      }\n",
              "    </script>\n",
              "  </div>\n",
              "\n",
              "\n",
              "<div id=\"df-22cb2de8-1bb8-44c2-adb1-7af78c1d0ec4\">\n",
              "  <button class=\"colab-df-quickchart\" onclick=\"quickchart('df-22cb2de8-1bb8-44c2-adb1-7af78c1d0ec4')\"\n",
              "            title=\"Suggest charts\"\n",
              "            style=\"display:none;\">\n",
              "\n",
              "<svg xmlns=\"http://www.w3.org/2000/svg\" height=\"24px\"viewBox=\"0 0 24 24\"\n",
              "     width=\"24px\">\n",
              "    <g>\n",
              "        <path d=\"M19 3H5c-1.1 0-2 .9-2 2v14c0 1.1.9 2 2 2h14c1.1 0 2-.9 2-2V5c0-1.1-.9-2-2-2zM9 17H7v-7h2v7zm4 0h-2V7h2v10zm4 0h-2v-4h2v4z\"/>\n",
              "    </g>\n",
              "</svg>\n",
              "  </button>\n",
              "\n",
              "<style>\n",
              "  .colab-df-quickchart {\n",
              "      --bg-color: #E8F0FE;\n",
              "      --fill-color: #1967D2;\n",
              "      --hover-bg-color: #E2EBFA;\n",
              "      --hover-fill-color: #174EA6;\n",
              "      --disabled-fill-color: #AAA;\n",
              "      --disabled-bg-color: #DDD;\n",
              "  }\n",
              "\n",
              "  [theme=dark] .colab-df-quickchart {\n",
              "      --bg-color: #3B4455;\n",
              "      --fill-color: #D2E3FC;\n",
              "      --hover-bg-color: #434B5C;\n",
              "      --hover-fill-color: #FFFFFF;\n",
              "      --disabled-bg-color: #3B4455;\n",
              "      --disabled-fill-color: #666;\n",
              "  }\n",
              "\n",
              "  .colab-df-quickchart {\n",
              "    background-color: var(--bg-color);\n",
              "    border: none;\n",
              "    border-radius: 50%;\n",
              "    cursor: pointer;\n",
              "    display: none;\n",
              "    fill: var(--fill-color);\n",
              "    height: 32px;\n",
              "    padding: 0;\n",
              "    width: 32px;\n",
              "  }\n",
              "\n",
              "  .colab-df-quickchart:hover {\n",
              "    background-color: var(--hover-bg-color);\n",
              "    box-shadow: 0 1px 2px rgba(60, 64, 67, 0.3), 0 1px 3px 1px rgba(60, 64, 67, 0.15);\n",
              "    fill: var(--button-hover-fill-color);\n",
              "  }\n",
              "\n",
              "  .colab-df-quickchart-complete:disabled,\n",
              "  .colab-df-quickchart-complete:disabled:hover {\n",
              "    background-color: var(--disabled-bg-color);\n",
              "    fill: var(--disabled-fill-color);\n",
              "    box-shadow: none;\n",
              "  }\n",
              "\n",
              "  .colab-df-spinner {\n",
              "    border: 2px solid var(--fill-color);\n",
              "    border-color: transparent;\n",
              "    border-bottom-color: var(--fill-color);\n",
              "    animation:\n",
              "      spin 1s steps(1) infinite;\n",
              "  }\n",
              "\n",
              "  @keyframes spin {\n",
              "    0% {\n",
              "      border-color: transparent;\n",
              "      border-bottom-color: var(--fill-color);\n",
              "      border-left-color: var(--fill-color);\n",
              "    }\n",
              "    20% {\n",
              "      border-color: transparent;\n",
              "      border-left-color: var(--fill-color);\n",
              "      border-top-color: var(--fill-color);\n",
              "    }\n",
              "    30% {\n",
              "      border-color: transparent;\n",
              "      border-left-color: var(--fill-color);\n",
              "      border-top-color: var(--fill-color);\n",
              "      border-right-color: var(--fill-color);\n",
              "    }\n",
              "    40% {\n",
              "      border-color: transparent;\n",
              "      border-right-color: var(--fill-color);\n",
              "      border-top-color: var(--fill-color);\n",
              "    }\n",
              "    60% {\n",
              "      border-color: transparent;\n",
              "      border-right-color: var(--fill-color);\n",
              "    }\n",
              "    80% {\n",
              "      border-color: transparent;\n",
              "      border-right-color: var(--fill-color);\n",
              "      border-bottom-color: var(--fill-color);\n",
              "    }\n",
              "    90% {\n",
              "      border-color: transparent;\n",
              "      border-bottom-color: var(--fill-color);\n",
              "    }\n",
              "  }\n",
              "</style>\n",
              "\n",
              "  <script>\n",
              "    async function quickchart(key) {\n",
              "      const quickchartButtonEl =\n",
              "        document.querySelector('#' + key + ' button');\n",
              "      quickchartButtonEl.disabled = true;  // To prevent multiple clicks.\n",
              "      quickchartButtonEl.classList.add('colab-df-spinner');\n",
              "      try {\n",
              "        const charts = await google.colab.kernel.invokeFunction(\n",
              "            'suggestCharts', [key], {});\n",
              "      } catch (error) {\n",
              "        console.error('Error during call to suggestCharts:', error);\n",
              "      }\n",
              "      quickchartButtonEl.classList.remove('colab-df-spinner');\n",
              "      quickchartButtonEl.classList.add('colab-df-quickchart-complete');\n",
              "    }\n",
              "    (() => {\n",
              "      let quickchartButtonEl =\n",
              "        document.querySelector('#df-22cb2de8-1bb8-44c2-adb1-7af78c1d0ec4 button');\n",
              "      quickchartButtonEl.style.display =\n",
              "        google.colab.kernel.accessAllowed ? 'block' : 'none';\n",
              "    })();\n",
              "  </script>\n",
              "</div>\n",
              "    </div>\n",
              "  </div>\n"
            ]
          },
          "metadata": {},
          "execution_count": 10
        }
      ]
    },
    {
      "cell_type": "code",
      "source": [
        "df.shape"
      ],
      "metadata": {
        "colab": {
          "base_uri": "https://localhost:8080/"
        },
        "id": "X2PYiHkpuUU_",
        "outputId": "c59a93c0-e8a1-47b9-ccac-eb50df3a4cea"
      },
      "execution_count": 11,
      "outputs": [
        {
          "output_type": "execute_result",
          "data": {
            "text/plain": [
              "(10, 3)"
            ]
          },
          "metadata": {},
          "execution_count": 11
        }
      ]
    },
    {
      "cell_type": "code",
      "source": [
        "df.to_csv(\"teacher's information.csv\")"
      ],
      "metadata": {
        "id": "tASKIiMMMv32"
      },
      "execution_count": 12,
      "outputs": []
    },
    {
      "cell_type": "markdown",
      "source": [
        "# Main code"
      ],
      "metadata": {
        "id": "RxTvSMexzyjx"
      }
    },
    {
      "cell_type": "code",
      "source": [
        "# Filter only English IV subject\n",
        "english_df = df[df[\"Subject\"] == \"English IV\"]\n",
        "\n",
        "# Splitting and converting availability to integers\n",
        "english_df['Availability'] = english_df['Availability'].apply(lambda x: [int(day) for day in x.split(', ')])\n",
        "\n",
        "# Exploding the availability data into different rows\n",
        "english_df = english_df.explode('Availability')\n",
        "\n",
        "# Days and modules (including recess)\n",
        "days = [\"Monday\", \"Tuesday\", \"Wednesday\", \"Thursday\", \"Friday\"]\n",
        "modules = [1, 2, 'Recess 20 min', 3, 4, 5, 6, 'Recess 10 min', 7, 8]\n",
        "\n",
        "# Selecting the first English IV teacher from the list\n",
        "teacher = english_df['Teacher'].unique()[0]\n",
        "\n",
        "# Creating a timetable matrix for the English IV class group\n",
        "timetable = pd.DataFrame(columns=days, index=modules).fillna('')\n",
        "\n",
        "# Populating the timetable for the selected teacher with both subject and teacher's name\n",
        "# As English IV classes are only on Monday, Wednesday, and Friday:\n",
        "class_days = [\"Monday\", \"Wednesday\", \"Friday\"]\n",
        "for hour in english_df[english_df['Teacher'] == teacher]['Availability']:\n",
        "    # Map the hour to the corresponding module, considering the recesses\n",
        "    if hour <= 2:\n",
        "        module = hour\n",
        "    elif hour <= 5:\n",
        "        module = hour + 0\n",
        "    else:\n",
        "        module = hour + 0\n",
        "    # Both values are 0 so as not to shift the modules, which becomes an error\n",
        "\n",
        "    for day in class_days:\n",
        "        if module in timetable.index:  # Check if it's not a recess time\n",
        "            timetable.at[module, day] = 'English IV\\n' + teacher\n",
        "\n",
        "# Plotting the full-week timetable schedule for the English IV class\n",
        "plt.figure(figsize=(12, 10))\n",
        "sns.heatmap(timetable != '', annot = timetable, fmt = '', cmap = \"YlGnBu\", cbar = False)\n",
        "plt.title(\"Schedule for English IV Group A\")\n",
        "plt.xlabel(\"Days\")\n",
        "plt.ylabel(\"Modules\")\n",
        "plt.show()"
      ],
      "metadata": {
        "colab": {
          "base_uri": "https://localhost:8080/",
          "height": 976
        },
        "id": "qOfyzHPrrP-w",
        "outputId": "503083d6-2121-4ea2-b4d5-b2f1760de3f8"
      },
      "execution_count": 13,
      "outputs": [
        {
          "output_type": "stream",
          "name": "stderr",
          "text": [
            "<ipython-input-13-4ba16e4ea967>:5: SettingWithCopyWarning: \n",
            "A value is trying to be set on a copy of a slice from a DataFrame.\n",
            "Try using .loc[row_indexer,col_indexer] = value instead\n",
            "\n",
            "See the caveats in the documentation: https://pandas.pydata.org/pandas-docs/stable/user_guide/indexing.html#returning-a-view-versus-a-copy\n",
            "  english_df['Availability'] = english_df['Availability'].apply(lambda x: [int(day) for day in x.split(', ')])\n"
          ]
        },
        {
          "output_type": "display_data",
          "data": {
            "text/plain": [
              "<Figure size 1200x1000 with 1 Axes>"
            ],
            "image/png": "[encoded data removed]"
          },
          "metadata": {}
        }
      ]
    },
    {
      "cell_type": "code",
      "source": [
        "# Filter only English IV subject\n",
        "english_df = df[df[\"Subject\"] == \"English IV\"]\n",
        "\n",
        "# Splitting and converting availability to integers\n",
        "english_df['Availability'] = english_df['Availability'].apply(lambda x: [int(day) for day in x.split(', ')])\n",
        "\n",
        "# Exploding the availability data into separate rows\n",
        "english_df = english_df.explode('Availability')\n",
        "\n",
        "# Creating a timetable matrix for each day (Monday to Friday) and each module (1-7) including recess\n",
        "timetable = pd.DataFrame(columns=days, index=modules).fillna('')\n",
        "\n",
        "# Populate the timetable for each English III teacher, skipping recess times\n",
        "for teacher in english_df['Teacher'].unique():\n",
        "    available_hours = english_df[english_df['Teacher'] == teacher]['Availability']\n",
        "    for hour in available_hours:\n",
        "        # Map the hour to the corresponding module, considering the recesses\n",
        "        if hour <= 2:\n",
        "            module = hour\n",
        "        elif hour <= 5:\n",
        "            module = hour + 0  # Shift by one for the first recess\n",
        "        else:\n",
        "            module = hour + 0  # Shift by two for both recesses\n",
        "\n",
        "        for day in days:\n",
        "            if module in timetable.index:  # Check if it's not a recess time\n",
        "                timetable.at[module, day] += f'{teacher}\\n'\n",
        "\n",
        "# Replace NaN with empty string for better visualization\n",
        "timetable.fillna('', inplace=True)\n",
        "\n",
        "# Plotting the English IV timetable\n",
        "plt.figure(figsize=(12, 10))\n",
        "sns.heatmap(timetable != '', annot=timetable, fmt='', cmap=\"YlGnBu\", cbar=False)\n",
        "plt.title(\"UPY schedule for English IV teachers\")\n",
        "plt.xlabel(\"Days\")\n",
        "plt.ylabel(\"Modules\")\n",
        "plt.show()"
      ],
      "metadata": {
        "colab": {
          "base_uri": "https://localhost:8080/",
          "height": 976
        },
        "id": "XxJLKZDmjTAa",
        "outputId": "f92969b6-c603-4d11-8180-49c28759d745"
      },
      "execution_count": 14,
      "outputs": [
        {
          "output_type": "stream",
          "name": "stderr",
          "text": [
            "<ipython-input-14-c559aead5cea>:5: SettingWithCopyWarning: \n",
            "A value is trying to be set on a copy of a slice from a DataFrame.\n",
            "Try using .loc[row_indexer,col_indexer] = value instead\n",
            "\n",
            "See the caveats in the documentation: https://pandas.pydata.org/pandas-docs/stable/user_guide/indexing.html#returning-a-view-versus-a-copy\n",
            "  english_df['Availability'] = english_df['Availability'].apply(lambda x: [int(day) for day in x.split(', ')])\n"
          ]
        },
        {
          "output_type": "display_data",
          "data": {
            "text/plain": [
              "<Figure size 1200x1000 with 1 Axes>"
            ],
            "image/png": "[encoded data removed]"
          },
          "metadata": {}
        }
      ]
    }
  ]
}